{
 "cells": [
  {
   "cell_type": "code",
   "execution_count": 7,
   "metadata": {
    "collapsed": true
   },
   "outputs": [],
   "source": [
    "import buggy_commit\n",
    "import pandas as pd\n",
    "repo_url = 'git://github.com/rspec/rspec-rails.git'\n",
    "repo_name = 'rspec-rails'"
   ]
  },
  {
   "cell_type": "code",
   "execution_count": 2,
   "metadata": {},
   "outputs": [],
   "source": [
    "bugs_data = buggy_commit.buggy_commit_maker('rails',repo_url,repo_name)"
   ]
  },
  {
   "cell_type": "code",
   "execution_count": 5,
   "metadata": {},
   "outputs": [],
   "source": [
    "bugs_data.get_buggy_commits()\n",
    "data = bugs_data.get_buggy_committer()"
   ]
  },
  {
   "cell_type": "code",
   "execution_count": 3,
   "metadata": {},
   "outputs": [],
   "source": [
    "total_commit = bugs_data.get_commit_count()"
   ]
  },
  {
   "cell_type": "code",
   "execution_count": 4,
   "metadata": {},
   "outputs": [
    {
     "data": {
      "text/plain": [
       "[['Aaron Blew', 1],\n",
       " ['Aaron Kromer', 290],\n",
       " ['Abdelkader Boudih', 2],\n",
       " ['AbuSabah', 1],\n",
       " ['Ahmed AbouElhamayed', 2],\n",
       " ['Al Snow', 1],\n",
       " ['Alan Shields', 2],\n",
       " ['Alex Egan', 4],\n",
       " ['Alex Rothenberg', 8],\n",
       " ['Alex Yaremyuk', 1],\n",
       " ['Andre Arko & Doc Ritezel', 1],\n",
       " ['Andrei Maxim', 1],\n",
       " ['Andrew White', 2],\n",
       " ['Andrew Wilcox', 1],\n",
       " ['Andrey Voronkov', 1],\n",
       " ['André Arko', 1],\n",
       " ['Andy Lindeman', 318],\n",
       " ['Andy Morris', 1],\n",
       " ['Andy Waite', 1],\n",
       " ['Anthony Dmitriyev', 1],\n",
       " ['Anton Davydov', 1],\n",
       " ['Anton Rieder', 1],\n",
       " ['Ara Hacopian', 1],\n",
       " ['Ari Pollak', 1],\n",
       " ['Artur Roszczyk', 1],\n",
       " ['Attila Györffy', 2],\n",
       " ['Ben Hamill', 3],\n",
       " ['Ben Morris', 1],\n",
       " ['Ben Moss', 1],\n",
       " ['Benjamin Quorning', 9],\n",
       " ['Benoit Tigeot', 6],\n",
       " ['Billy', 5],\n",
       " ['Bradley Schaefer', 26],\n",
       " ['Brent J. Nordquist', 1],\n",
       " ['Brian Cardarella', 1],\n",
       " ['Brian Fontenot', 2],\n",
       " ['Brian John', 1],\n",
       " ['Brian Kane', 2],\n",
       " ['Brian Kephart', 1],\n",
       " ['Bryan Helmkamp', 1],\n",
       " ['Bryan Ricker', 1],\n",
       " ['Carlhuda', 3],\n",
       " ['Chris Thorn', 1],\n",
       " ['Chris Your', 1],\n",
       " ['Chris Zetter', 2],\n",
       " ['Christof', 1],\n",
       " ['Dan Kohn', 1],\n",
       " ['Dan Rasband', 4],\n",
       " ['DarthSim', 4],\n",
       " ['Dave Marr', 1],\n",
       " ['Dave Woodall', 1],\n",
       " ['David Chelimsky', 986],\n",
       " ['David Daniell', 1],\n",
       " ['David Long', 1],\n",
       " ['David Rodríguez', 7],\n",
       " ['Dennis Ideler', 2],\n",
       " ['Diego Carrion', 1],\n",
       " ['Diego Plentz', 5],\n",
       " ['Douglas Lovell', 10],\n",
       " ['Edward Rudd', 1],\n",
       " ['Elena Sharma', 1],\n",
       " ['Eliot Sykes', 2],\n",
       " ['Eric Marden', 1],\n",
       " ['Fernando Seror', 1],\n",
       " ['Florian Thomas', 1],\n",
       " ['Gabe Martin-Dempesy', 3],\n",
       " ['Giovanni Cappellotto', 3],\n",
       " ['GitHub', 99],\n",
       " ['Grant Hutchins', 1],\n",
       " ['Griffin Smith', 4],\n",
       " ['Henrik Nyh', 1],\n",
       " ['Igor Zubkov', 1],\n",
       " ['Isaac Betesh', 1],\n",
       " ['Jack Dempsey', 1],\n",
       " ['Jakub Racek', 1],\n",
       " ['Jam Black', 2],\n",
       " ['Jamela Black', 2],\n",
       " ['James Adam', 1],\n",
       " ['Jared Grippe', 1],\n",
       " ['Jean van der Walt', 1],\n",
       " ['Jim Deville', 1],\n",
       " ['Joe Grossberg', 1],\n",
       " ['Johannes / universa1', 1],\n",
       " ['Johannes Faigle', 1],\n",
       " ['Johannes Gorset', 1],\n",
       " ['John Firebaugh', 2],\n",
       " ['John Schroeder', 2],\n",
       " ['John Voloski', 1],\n",
       " ['John Wulff', 2],\n",
       " ['Jon Moss', 1],\n",
       " ['Jon Rowe', 270],\n",
       " ['Jonathan Hyman', 1],\n",
       " ['Jonathan del Strother', 1],\n",
       " ['Jordan Goldstein', 1],\n",
       " ['Josh Justice', 3],\n",
       " ['Josh Kalderimis', 4],\n",
       " ['José Valim', 1],\n",
       " ['Juan González', 1],\n",
       " ['Jun Aruga', 1],\n",
       " ['Justin Ko', 70],\n",
       " ['Justin Reid', 1],\n",
       " ['Kevin Glowacz', 1],\n",
       " ['Kohei Hasegawa', 1],\n",
       " ['Koichi ITO', 1],\n",
       " ['Kosmas Chatzimichalis', 1],\n",
       " ['Laura Paakkinen', 1],\n",
       " ['Lewis Marshall', 1],\n",
       " ['Lucas Caton', 1],\n",
       " ['Lucas Mazza', 2],\n",
       " ['Marc G Gauthier', 1],\n",
       " ['Marc Weil', 4],\n",
       " ['Martin Svalin', 1],\n",
       " ['Matt Parker', 1],\n",
       " ['Matt Sanders', 1],\n",
       " ['Matthew Lineen', 1],\n",
       " [\"Megan O'Neill\", 1],\n",
       " ['Michael E. Gruen', 1],\n",
       " ['Michael Stock', 1],\n",
       " ['Mike Breen', 2],\n",
       " ['Mike MacDonald (crazymykl)', 1],\n",
       " ['Mike Moore', 2],\n",
       " ['Miklos Fazekas', 1],\n",
       " ['Myron Marston', 104],\n",
       " ['Nathan Broadbent', 2],\n",
       " ['Nikki Murray', 8],\n",
       " ['Olle Jonsson', 1],\n",
       " ['Orien Madgwick', 2],\n",
       " ['Paavo Leinonen', 2],\n",
       " ['Pascal Jungblut', 1],\n",
       " ['Pat Maddox', 1],\n",
       " ['Paul Annesley', 1],\n",
       " ['Peter Inglesby', 1],\n",
       " ['Peter Jaros', 1],\n",
       " ['Peter Rhoades', 1],\n",
       " ['Philippe Lafoucrière', 1],\n",
       " ['Puneet Goyal', 1],\n",
       " ['Rebecca Skinner', 1],\n",
       " ['René Föhring', 1],\n",
       " ['Rob', 1],\n",
       " ['Rodrigo Navarro', 1],\n",
       " ['Rodrigo Rosenfeld Rosas', 3],\n",
       " ['RustyNail', 1],\n",
       " ['Ryan Lue', 3],\n",
       " ['Salimane Adjao Moustapha', 1],\n",
       " ['Sam Phippen', 100],\n",
       " ['Scott Bronson', 1],\n",
       " ['Sergey Pchelintsev', 1],\n",
       " ['Shane Cavanaugh', 3],\n",
       " ['Simon Coffey', 2],\n",
       " ['Taiki ONO', 1],\n",
       " ['Takashi Nakagawa', 4],\n",
       " ['Tamir Duberstein', 1],\n",
       " ['Thaddee Tyl', 1],\n",
       " ['Thales Oliveira', 1],\n",
       " ['Thiago Almeida', 1],\n",
       " ['Thomas Billicsich', 1],\n",
       " ['Thomas Drake-Brockman', 4],\n",
       " ['Thomas Holmes', 1],\n",
       " ['Thomas Kriechbaumer', 1],\n",
       " ['Tim Watson', 1],\n",
       " ['Tom Chen', 1],\n",
       " ['Tom Scott', 5],\n",
       " ['Tony Ta', 2],\n",
       " ['Vladimir Strakhov', 1],\n",
       " ['Vít Ondruch', 1],\n",
       " ['Will Farrington', 1],\n",
       " ['Wojciech Wnętrzak', 9],\n",
       " ['Xavier Shay', 17],\n",
       " ['Yuji Nakayama', 18],\n",
       " ['aceofbassgreg', 1],\n",
       " ['britnia', 3],\n",
       " ['itzki', 1],\n",
       " ['jkusar', 2],\n",
       " ['joker1007', 1],\n",
       " ['jwow313', 1],\n",
       " ['nikolalsvk', 1],\n",
       " ['pavel', 1],\n",
       " ['pjambet', 1],\n",
       " ['takiy33', 1],\n",
       " ['vanstee', 1],\n",
       " ['vfrride', 2],\n",
       " ['wycats', 4],\n",
       " ['yui-knk', 2],\n",
       " ['Ægir Örn Símonarson', 1]]"
      ]
     },
     "execution_count": 4,
     "metadata": {},
     "output_type": "execute_result"
    }
   ],
   "source": [
    "total_commit"
   ]
  },
  {
   "cell_type": "code",
   "execution_count": 6,
   "metadata": {},
   "outputs": [
    {
     "ename": "TypeError",
     "evalue": "unsupported operand type(s) for /: 'list' and 'list'",
     "output_type": "error",
     "traceback": [
      "\u001b[1;31m---------------------------------------------------------------------------\u001b[0m",
      "\u001b[1;31mTypeError\u001b[0m                                 Traceback (most recent call last)",
      "\u001b[1;32m<ipython-input-6-7021f9298cda>\u001b[0m in \u001b[0;36m<module>\u001b[1;34m()\u001b[0m\n\u001b[1;32m----> 1\u001b[1;33m \u001b[0mdata\u001b[0m\u001b[1;33m/\u001b[0m\u001b[0mtotal_commit\u001b[0m\u001b[1;33m\u001b[0m\u001b[0m\n\u001b[0m",
      "\u001b[1;31mTypeError\u001b[0m: unsupported operand type(s) for /: 'list' and 'list'"
     ]
    }
   ],
   "source": [
    "data/total_commit"
   ]
  },
  {
   "cell_type": "code",
   "execution_count": 8,
   "metadata": {
    "collapsed": true
   },
   "outputs": [],
   "source": [
    "df1 = pd.DataFrame(data, columns = ['committer','count'])\n",
    "df2 = pd.DataFrame(total_commit, columns = ['committer','count'])"
   ]
  },
  {
   "cell_type": "code",
   "execution_count": null,
   "metadata": {
    "collapsed": true
   },
   "outputs": [],
   "source": []
  }
 ],
 "metadata": {
  "kernelspec": {
   "display_name": "Python 3",
   "language": "python",
   "name": "python3"
  },
  "language_info": {
   "codemirror_mode": {
    "name": "ipython",
    "version": 3
   },
   "file_extension": ".py",
   "mimetype": "text/x-python",
   "name": "python",
   "nbconvert_exporter": "python",
   "pygments_lexer": "ipython3",
   "version": "3.6.1"
  }
 },
 "nbformat": 4,
 "nbformat_minor": 2
}
