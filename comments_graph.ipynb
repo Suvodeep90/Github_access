{
 "cells": [
  {
   "cell_type": "code",
   "execution_count": 1,
   "metadata": {
    "collapsed": true
   },
   "outputs": [],
   "source": [
    "import git_access\n",
    "import json\n",
    "from __future__ import division\n",
    "import pandas as pd\n",
    "import numpy as np\n",
    "import matplotlib.pyplot as plt\n",
    "import math\n",
    "import networkx as nx"
   ]
  },
  {
   "cell_type": "code",
   "execution_count": 2,
   "metadata": {},
   "outputs": [
    {
     "name": "stdout",
     "output_type": "stream",
     "text": [
      "http://api.github.com/repos/rspec/rspec-rails/issues/comments?page=1&per_page=100\n",
      "http://api.github.com/repos/rspec/rspec-rails/issues/comments?page=2&per_page=100\n",
      "http://api.github.com/repos/rspec/rspec-rails/issues/comments?page=3&per_page=100\n",
      "http://api.github.com/repos/rspec/rspec-rails/issues/comments?page=4&per_page=100\n",
      "http://api.github.com/repos/rspec/rspec-rails/issues/comments?page=5&per_page=100\n",
      "http://api.github.com/repos/rspec/rspec-rails/issues/comments?page=6&per_page=100\n",
      "http://api.github.com/repos/rspec/rspec-rails/issues/comments?page=7&per_page=100\n",
      "http://api.github.com/repos/rspec/rspec-rails/issues/comments?page=8&per_page=100\n",
      "http://api.github.com/repos/rspec/rspec-rails/issues/comments?page=9&per_page=100\n",
      "http://api.github.com/repos/rspec/rspec-rails/issues/comments?page=10&per_page=100\n",
      "http://api.github.com/repos/rspec/rspec-rails/issues/comments?page=11&per_page=100\n",
      "http://api.github.com/repos/rspec/rspec-rails/issues/comments?page=12&per_page=100\n",
      "http://api.github.com/repos/rspec/rspec-rails/issues/comments?page=13&per_page=100\n",
      "http://api.github.com/repos/rspec/rspec-rails/issues/comments?page=14&per_page=100\n",
      "http://api.github.com/repos/rspec/rspec-rails/issues/comments?page=15&per_page=100\n",
      "http://api.github.com/repos/rspec/rspec-rails/issues/comments?page=16&per_page=100\n",
      "http://api.github.com/repos/rspec/rspec-rails/issues/comments?page=17&per_page=100\n",
      "http://api.github.com/repos/rspec/rspec-rails/issues/comments?page=18&per_page=100\n",
      "http://api.github.com/repos/rspec/rspec-rails/issues/comments?page=19&per_page=100\n",
      "http://api.github.com/repos/rspec/rspec-rails/issues/comments?page=20&per_page=100\n",
      "http://api.github.com/repos/rspec/rspec-rails/issues/comments?page=21&per_page=100\n",
      "http://api.github.com/repos/rspec/rspec-rails/issues/comments?page=22&per_page=100\n",
      "http://api.github.com/repos/rspec/rspec-rails/issues/comments?page=23&per_page=100\n",
      "http://api.github.com/repos/rspec/rspec-rails/issues/comments?page=24&per_page=100\n",
      "http://api.github.com/repos/rspec/rspec-rails/issues/comments?page=25&per_page=100\n",
      "http://api.github.com/repos/rspec/rspec-rails/issues/comments?page=26&per_page=100\n",
      "http://api.github.com/repos/rspec/rspec-rails/issues/comments?page=27&per_page=100\n",
      "http://api.github.com/repos/rspec/rspec-rails/issues/comments?page=28&per_page=100\n",
      "http://api.github.com/repos/rspec/rspec-rails/issues/comments?page=29&per_page=100\n",
      "http://api.github.com/repos/rspec/rspec-rails/issues/comments?page=30&per_page=100\n",
      "http://api.github.com/repos/rspec/rspec-rails/issues/comments?page=31&per_page=100\n",
      "http://api.github.com/repos/rspec/rspec-rails/issues/comments?page=32&per_page=100\n",
      "http://api.github.com/repos/rspec/rspec-rails/issues/comments?page=33&per_page=100\n",
      "http://api.github.com/repos/rspec/rspec-rails/issues/comments?page=34&per_page=100\n",
      "http://api.github.com/repos/rspec/rspec-rails/issues/comments?page=35&per_page=100\n",
      "http://api.github.com/repos/rspec/rspec-rails/issues/comments?page=36&per_page=100\n",
      "http://api.github.com/repos/rspec/rspec-rails/issues/comments?page=37&per_page=100\n",
      "http://api.github.com/repos/rspec/rspec-rails/issues/comments?page=38&per_page=100\n",
      "http://api.github.com/repos/rspec/rspec-rails/issues/comments?page=39&per_page=100\n",
      "http://api.github.com/repos/rspec/rspec-rails/issues/comments?page=40&per_page=100\n",
      "http://api.github.com/repos/rspec/rspec-rails/issues/comments?page=41&per_page=100\n",
      "http://api.github.com/repos/rspec/rspec-rails/issues/comments?page=42&per_page=100\n",
      "http://api.github.com/repos/rspec/rspec-rails/issues/comments?page=43&per_page=100\n",
      "http://api.github.com/repos/rspec/rspec-rails/issues/comments?page=44&per_page=100\n",
      "http://api.github.com/repos/rspec/rspec-rails/issues/comments?page=45&per_page=100\n",
      "http://api.github.com/repos/rspec/rspec-rails/issues/comments?page=46&per_page=100\n",
      "http://api.github.com/repos/rspec/rspec-rails/issues/comments?page=47&per_page=100\n",
      "http://api.github.com/repos/rspec/rspec-rails/issues/comments?page=48&per_page=100\n",
      "http://api.github.com/repos/rspec/rspec-rails/issues/comments?page=49&per_page=100\n",
      "http://api.github.com/repos/rspec/rspec-rails/issues/comments?page=50&per_page=100\n",
      "http://api.github.com/repos/rspec/rspec-rails/issues/comments?page=51&per_page=100\n",
      "http://api.github.com/repos/rspec/rspec-rails/issues/comments?page=52&per_page=100\n",
      "http://api.github.com/repos/rspec/rspec-rails/issues/comments?page=53&per_page=100\n",
      "http://api.github.com/repos/rspec/rspec-rails/issues/comments?page=54&per_page=100\n",
      "http://api.github.com/repos/rspec/rspec-rails/issues/comments?page=55&per_page=100\n",
      "http://api.github.com/repos/rspec/rspec-rails/issues/comments?page=56&per_page=100\n",
      "http://api.github.com/repos/rspec/rspec-rails/issues/comments?page=57&per_page=100\n",
      "http://api.github.com/repos/rspec/rspec-rails/issues/comments?page=58&per_page=100\n",
      "http://api.github.com/repos/rspec/rspec-rails/issues/comments?page=59&per_page=100\n",
      "http://api.github.com/repos/rspec/rspec-rails/issues/comments?page=60&per_page=100\n",
      "http://api.github.com/repos/rspec/rspec-rails/issues/comments?page=61&per_page=100\n",
      "http://api.github.com/repos/rspec/rspec-rails/issues/comments?page=62&per_page=100\n",
      "http://api.github.com/repos/rspec/rspec-rails/issues/comments?page=63&per_page=100\n",
      "http://api.github.com/repos/rspec/rspec-rails/issues/comments?page=64&per_page=100\n",
      "http://api.github.com/repos/rspec/rspec-rails/issues/comments?page=65&per_page=100\n",
      "http://api.github.com/repos/rspec/rspec-rails/issues/comments?page=66&per_page=100\n",
      "http://api.github.com/repos/rspec/rspec-rails/issues/comments?page=67&per_page=100\n",
      "http://api.github.com/repos/rspec/rspec-rails/issues/comments?page=68&per_page=100\n",
      "http://api.github.com/repos/rspec/rspec-rails/issues/comments?page=69&per_page=100\n",
      "http://api.github.com/repos/rspec/rspec-rails/issues/comments?page=70&per_page=100\n",
      "http://api.github.com/repos/rspec/rspec-rails/issues/comments?page=71&per_page=100\n",
      "http://api.github.com/repos/rspec/rspec-rails/issues/comments?page=72&per_page=100\n",
      "http://api.github.com/repos/rspec/rspec-rails/issues/comments?page=73&per_page=100\n",
      "http://api.github.com/repos/rspec/rspec-rails/issues/comments?page=74&per_page=100\n",
      "http://api.github.com/repos/rspec/rspec-rails/issues/comments?page=75&per_page=100\n",
      "http://api.github.com/repos/rspec/rspec-rails/issues/comments?page=76&per_page=100\n",
      "http://api.github.com/repos/rspec/rspec-rails/issues/comments?page=77&per_page=100\n",
      "http://api.github.com/repos/rspec/rspec-rails/issues/comments?page=78&per_page=100\n",
      "http://api.github.com/repos/rspec/rspec-rails/issues/comments?page=79&per_page=100\n",
      "http://api.github.com/repos/rspec/rspec-rails/issues/comments?page=80&per_page=100\n",
      "http://api.github.com/repos/rspec/rspec-rails/issues/comments?page=81&per_page=100\n",
      "http://api.github.com/repos/rspec/rspec-rails/issues/comments?page=82&per_page=100\n",
      "http://api.github.com/repos/rspec/rspec-rails/issues/comments?page=83&per_page=100\n",
      "http://api.github.com/repos/rspec/rspec-rails/issues/comments?page=84&per_page=100\n",
      "http://api.github.com/repos/rspec/rspec-rails/issues/comments?page=85&per_page=100\n",
      "http://api.github.com/repos/rspec/rspec-rails/issues/comments?page=86&per_page=100\n",
      "http://api.github.com/repos/rspec/rspec-rails/issues/comments?page=87&per_page=100\n",
      "http://api.github.com/repos/rspec/rspec-rails/issues/comments?page=88&per_page=100\n",
      "http://api.github.com/repos/rspec/rspec-rails/issues/comments?page=89&per_page=100\n",
      "http://api.github.com/repos/rspec/rspec-rails/issues/comments?page=90&per_page=100\n",
      "http://api.github.com/repos/rspec/rspec-rails/issues/comments?page=91&per_page=100\n",
      "http://api.github.com/repos/rspec/rspec-rails/issues/comments?page=92&per_page=100\n",
      "http://api.github.com/repos/rspec/rspec-rails/issues/comments?page=93&per_page=100\n"
     ]
    }
   ],
   "source": [
    "access_token = '** '\n",
    "repo_owner = 'rspec'\n",
    "source_type = 'github_repo'\n",
    "git_url = 'git://github.com/rspec/rspec-rails.git'\n",
    "api_base_url = 'http://api.github.com'\n",
    "repo_name = 'rspec-rails'\n",
    "url_type = 'issues'\n",
    "url_details = 'comments'\n",
    "client = git_access.GitHubClient({'access_token': access_token,\n",
    "                       'repo_owner': repo_owner, \n",
    "                       'source_type': source_type, \n",
    "                       'git_url': git_url, \n",
    "                       'api_base_url': api_base_url, \n",
    "                       'repo_name': repo_name}) \n",
    "base_url = api_base_url + '/repos/' + repo_owner + '/' + repo_name + '/' + url_type\n",
    "advanced_url = base_url + '/' + url_details\n",
    "x = [0]*100\n",
    "check = 1\n",
    "page_number = 1\n",
    "comments_details = []\n",
    "while len(x) >= 100:\n",
    "    check -= 1\n",
    "    paged_url = advanced_url + '?page=' + str(page_number) + '&per_page=100'\n",
    "    page_number += 1\n",
    "    print(paged_url)\n",
    "    res = client.get(paged_url)\n",
    "    x = json.loads(res.content)\n",
    "    for i in range(len(x)):\n",
    "        issue_number = x[i]['issue_url'][len(base_url)+2:]\n",
    "        user_logon = x[i]['user']['login']\n",
    "        author_association = x[i]['author_association']\n",
    "        comments_details.append([issue_number,user_logon,author_association])"
   ]
  },
  {
   "cell_type": "code",
   "execution_count": null,
   "metadata": {
    "collapsed": true
   },
   "outputs": [],
   "source": [
    "x = [0]*100\n",
    "check = 1\n",
    "page_number = 1\n",
    "issue_details = []\n",
    "while len(x) >= 100:\n",
    "    check -= 1\n",
    "    paged_url = base_url + '?state=' + 'all' + '&page=' + str(page_number) + '&per_page=100'\n",
    "    page_number += 1\n",
    "    print(paged_url)\n",
    "    res = client.get(paged_url)\n",
    "    x = json.loads(res.content)\n",
    "    for i in range(len(x)):\n",
    "        issue_number = x[i]['number']\n",
    "        user_logon = x[i]['user']['login']\n",
    "        author_type = x[i]['user']['type']\n",
    "        issue_details.append([issue_number,user_logon,author_type])"
   ]
  },
  {
   "cell_type": "code",
   "execution_count": null,
   "metadata": {
    "collapsed": true
   },
   "outputs": [],
   "source": [
    "comments_details_df = pd.DataFrame(comments_details, columns = ['Issue_id','user_logon','commenter_type'])\n",
    "issue_details_df = pd.DataFrame(issue_details, columns = ['Issue_id','user_logon','commenter_type'])"
   ]
  },
  {
   "cell_type": "code",
   "execution_count": null,
   "metadata": {
    "collapsed": true
   },
   "outputs": [],
   "source": [
    "comments_details_df.drop(['commenter_type'], inplace=True, axis = 1)\n",
    "issue_details_df.drop(['commenter_type'], inplace=True, axis = 1)"
   ]
  },
  {
   "cell_type": "code",
   "execution_count": null,
   "metadata": {
    "collapsed": true
   },
   "outputs": [],
   "source": [
    "comm_details_df = pd.concat([comments_details_df,issue_details_df])"
   ]
  },
  {
   "cell_type": "code",
   "execution_count": null,
   "metadata": {
    "collapsed": true
   },
   "outputs": [],
   "source": [
    "uniq_issues = comm_details_df.Issue_id.unique()\n",
    "uniq_users = comm_details_df.user_logon.unique()\n",
    "connection_matrix = np.ndarray(shape=(len(uniq_users),len(uniq_users)))\n",
    "connection_matrix = np.zeros((len(uniq_users),len(uniq_users)), dtype=np.int)\n",
    "user_dict = {}\n",
    "rev_user_dict = {}\n",
    "user_id = 0\n",
    "for i in range(len(uniq_users)):\n",
    "    user_dict[uniq_users[i]] = user_id\n",
    "    rev_user_dict[user_id] = uniq_users[i]\n",
    "    user_id += 1\n",
    "for i in uniq_issues:\n",
    "    issue_specific = comm_details_df[comm_details_df['Issue_id'] == i]\n",
    "    participents = issue_specific.user_logon.unique()\n",
    "    for j in range(len(participents)):\n",
    "        comment_from = participents[j]\n",
    "        comment_count = issue_specific[issue_specific['user_logon'] == comment_from].shape\n",
    "        if len(participents) == 1:\n",
    "            continue\n",
    "        comment_to = np.delete(participents,np.where(participents == comment_from))\n",
    "        for k in comment_to:\n",
    "            connection_matrix[user_dict[comment_from]][user_dict[k]] += len(comment_count)"
   ]
  },
  {
   "cell_type": "code",
   "execution_count": null,
   "metadata": {
    "collapsed": true
   },
   "outputs": [],
   "source": [
    "%matplotlib inline\n",
    "def show_graph_with_labels(matrix):\n",
    "    gr = nx.Graph()\n",
    "    rows,cols = np.where(matrix > 0)\n",
    "    edges = zip(rows.tolist(), cols.tolist())\n",
    "    gr = nx.Graph()\n",
    "    gr.add_edges_from(edges)\n",
    "    #plt.figure(num=None, figsize = (100,100), dpi = 50, facecolor='w', edgecolor='k')\n",
    "    #nx.draw(gr, node_size=500)\n",
    "    #plt.show()\n",
    "    return gr.degree(gr.nodes()),gr"
   ]
  },
  {
   "cell_type": "code",
   "execution_count": null,
   "metadata": {
    "collapsed": true
   },
   "outputs": [],
   "source": [
    "degree, G = show_graph_with_labels(connection_matrix)"
   ]
  },
  {
   "cell_type": "code",
   "execution_count": null,
   "metadata": {
    "collapsed": true
   },
   "outputs": [],
   "source": [
    "x = list(degree.values())\n",
    "x.sort()\n",
    "x = np.log(x)"
   ]
  },
  {
   "cell_type": "code",
   "execution_count": null,
   "metadata": {
    "collapsed": true
   },
   "outputs": [],
   "source": [
    "plt.plot(x)"
   ]
  },
  {
   "cell_type": "code",
   "execution_count": null,
   "metadata": {
    "collapsed": true
   },
   "outputs": [],
   "source": [
    "x[0]"
   ]
  },
  {
   "cell_type": "code",
   "execution_count": null,
   "metadata": {
    "collapsed": true
   },
   "outputs": [],
   "source": [
    "def clone_repo(repo_path):\n",
    "    if not os.path.exists(repo_path):\n",
    "        os.makedirs(repo_path)\n",
    "    repo = clone_repository(repo_url, repo_path)\n",
    "    return repo\n",
    "def repo_remove(repo,repo_path):\n",
    "    repo.free()\n",
    "    deldir = repo_path + '\\\\.git\\\\objects\\\\pack'\n",
    "    delFiles = [f for f in listdir(deldir) if isfile(join(deldir, f))]\n",
    "    for i in delFiles:\n",
    "        file_name = deldir + '\\\\' + i\n",
    "        os.chmod(file_name, 0o777)\n",
    "    if os.path.exists(repo_path):\n",
    "        shutil.rmtree(repo_path,ignore_errors=True)"
   ]
  }
 ],
 "metadata": {
  "kernelspec": {
   "display_name": "Python 3",
   "language": "python",
   "name": "python3"
  },
  "language_info": {
   "codemirror_mode": {
    "name": "ipython",
    "version": 3
   },
   "file_extension": ".py",
   "mimetype": "text/x-python",
   "name": "python",
   "nbconvert_exporter": "python",
   "pygments_lexer": "ipython3",
   "version": "3.6.1"
  }
 },
 "nbformat": 4,
 "nbformat_minor": 2
}
